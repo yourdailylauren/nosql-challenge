{
 "cells": [
  {
   "cell_type": "code",
   "execution_count": null,
   "id": "4f11f273",
   "metadata": {},
   "outputs": [],
   "source": [
    "from pymongo import MongoClient\n",
    "\n",
    "def print_field_data_types(db_name, collection_name):\n",
    "    # Connect to MongoDB\n",
    "    client = MongoClient('localhost', 27017)\n",
    "    db = client[db_name]\n",
    "    collection = db[collection_name]\n",
    "\n",
    "    # Fetch a single document\n",
    "    document = collection.find_one()\n",
    "\n",
    "    # Print data types of each field\n",
    "    for field, value in document.items():\n",
    "        print(f\"{field}: {type(value)}\")\n",
    "\n",
    "# Replace 'uk_food' and 'establishments' with your database and collection names\n",
    "print_field_data_types('uk_food', 'establishments')\n"
   ]
  }
 ],
 "metadata": {
  "kernelspec": {
   "display_name": "Python 3 (ipykernel)",
   "language": "python",
   "name": "python3"
  },
  "language_info": {
   "codemirror_mode": {
    "name": "ipython",
    "version": 3
   },
   "file_extension": ".py",
   "mimetype": "text/x-python",
   "name": "python",
   "nbconvert_exporter": "python",
   "pygments_lexer": "ipython3",
   "version": "3.11.5"
  }
 },
 "nbformat": 4,
 "nbformat_minor": 5
}
