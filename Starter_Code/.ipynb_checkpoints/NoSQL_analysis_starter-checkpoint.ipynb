{
 "cells": [
  {
   "cell_type": "markdown",
   "id": "9a57c4c6",
   "metadata": {},
   "source": [
    "# Eat Safe, Love"
   ]
  },
  {
   "cell_type": "markdown",
   "id": "064ef857",
   "metadata": {},
   "source": [
    "## Notebook Set Up"
   ]
  },
  {
   "cell_type": "code",
   "execution_count": 1,
   "id": "3ecdd008",
   "metadata": {},
   "outputs": [],
   "source": [
    "# Import dependencies\n",
    "from pymongo import MongoClient\n",
    "from pprint import pprint\n",
    "import pandas as pd"
   ]
  },
  {
   "cell_type": "code",
   "execution_count": 2,
   "id": "59390c4a",
   "metadata": {},
   "outputs": [],
   "source": [
    "# Create an instance of MongoClient\n",
    "mongo = MongoClient(port=27017)"
   ]
  },
  {
   "cell_type": "code",
   "execution_count": 3,
   "id": "71e373c1",
   "metadata": {},
   "outputs": [],
   "source": [
    "# assign the uk_food database to a variable name\n",
    "db = mongo['uk_food']"
   ]
  },
  {
   "cell_type": "code",
   "execution_count": 4,
   "id": "18ab463c",
   "metadata": {},
   "outputs": [
    {
     "name": "stdout",
     "output_type": "stream",
     "text": [
      "Collections in the database: ['establishments']\n"
     ]
    }
   ],
   "source": [
    "# review the collections in our database\n",
    "print(\"Collections in the database:\", db.list_collection_names())\n"
   ]
  },
  {
   "cell_type": "code",
   "execution_count": 5,
   "id": "11c9f11b",
   "metadata": {},
   "outputs": [],
   "source": [
    "# assign the collection to a variable\n",
    "establishments = db['establishments']\n"
   ]
  },
  {
   "cell_type": "markdown",
   "id": "d5671434",
   "metadata": {},
   "source": [
    "## Part 3: Exploratory Analysis\n",
    "Unless otherwise stated, for each question: \n",
    "* Use `count_documents` to display the number of documents contained in the result.\n",
    "* Display the first document in the results using `pprint`.\n",
    "* Convert the result to a Pandas DataFrame, print the number of rows in the DataFrame, and display the first 10 rows."
   ]
  },
  {
   "cell_type": "markdown",
   "id": "314bd884",
   "metadata": {},
   "source": [
    "### 1. Which establishments have a hygiene score equal to 20?"
   ]
  },
  {
   "cell_type": "code",
   "execution_count": 6,
   "id": "c2da7648",
   "metadata": {},
   "outputs": [
    {
     "name": "stdout",
     "output_type": "stream",
     "text": [
      "Number of establishments with hygiene score 20: 41\n",
      "First establishment with hygiene score 20:\n",
      "{'AddressLine1': '5-6 Southfields Road',\n",
      " 'AddressLine2': 'Eastbourne',\n",
      " 'AddressLine3': 'East Sussex',\n",
      " 'AddressLine4': '',\n",
      " 'BusinessName': 'The Chase Rest Home',\n",
      " 'BusinessType': 'Caring Premises',\n",
      " 'BusinessTypeID': 5,\n",
      " 'ChangesByServerID': 0,\n",
      " 'Distance': 4613.888288172291,\n",
      " 'FHRSID': 110681,\n",
      " 'LocalAuthorityBusinessID': '4029',\n",
      " 'LocalAuthorityCode': '102',\n",
      " 'LocalAuthorityEmailAddress': 'Customerfirst@eastbourne.gov.uk',\n",
      " 'LocalAuthorityName': 'Eastbourne',\n",
      " 'LocalAuthorityWebSite': 'http://www.eastbourne.gov.uk/foodratings',\n",
      " 'NewRatingPending': False,\n",
      " 'Phone': '',\n",
      " 'PostCode': 'BN21 1BU',\n",
      " 'RatingDate': '2021-09-23T00:00:00',\n",
      " 'RatingKey': 'fhrs_0_en-gb',\n",
      " 'RatingValue': 0,\n",
      " 'RightToReply': '',\n",
      " 'SchemeType': 'FHRS',\n",
      " '_id': ObjectId('656686b5b0d1e7460659241a'),\n",
      " 'geocode': {'latitude': {'$toDouble': '$geocode.latitude'},\n",
      "             'longitude': {'$toDouble': '$geocode.longitude'}},\n",
      " 'links': [{'href': 'https://api.ratings.food.gov.uk/establishments/110681',\n",
      "            'rel': 'self'}],\n",
      " 'meta': {'dataSource': None,\n",
      "          'extractDate': '0001-01-01T00:00:00',\n",
      "          'itemCount': 0,\n",
      "          'pageNumber': 0,\n",
      "          'pageSize': 0,\n",
      "          'returncode': None,\n",
      "          'totalCount': 0,\n",
      "          'totalPages': 0},\n",
      " 'scores': {'ConfidenceInManagement': 20, 'Hygiene': 20, 'Structural': 20}}\n"
     ]
    }
   ],
   "source": [
    "# Find the establishments with a hygiene score of 20\n",
    "\n",
    "# Use count_documents to display the number of documents in the result\n",
    "\n",
    "# Display the first document in the results using pprint\n",
    "query = {\"scores.Hygiene\": 20}\n",
    "hygiene_20_count = establishments.count_documents(query)\n",
    "print(\"Number of establishments with hygiene score 20:\", hygiene_20_count)\n",
    "\n",
    "first_hygiene_20 = establishments.find_one(query)\n",
    "print(\"First establishment with hygiene score 20:\")\n",
    "pprint(first_hygiene_20)"
   ]
  },
  {
   "cell_type": "code",
   "execution_count": 7,
   "id": "a6e5cece",
   "metadata": {},
   "outputs": [
    {
     "name": "stdout",
     "output_type": "stream",
     "text": [
      "Number of rows in DataFrame: 41\n",
      "First 10 rows of DataFrame:\n",
      "                        _id   FHRSID  ChangesByServerID  \\\n",
      "0  656686b5b0d1e7460659241a   110681                  0   \n",
      "1  656686b5b0d1e7460659279a   612039                  0   \n",
      "2  656686b5b0d1e74606592aa3   730933                  0   \n",
      "3  656686b5b0d1e74606592c92   172735                  0   \n",
      "4  656686b5b0d1e74606592ca3   172953                  0   \n",
      "5  656686b6b0d1e74606593648   512854                  0   \n",
      "6  656686b6b0d1e74606593863  1537089                  0   \n",
      "7  656686b6b0d1e74606594d90   155648                  0   \n",
      "8  656686b6b0d1e746065951da  1012883                  0   \n",
      "9  656686b6b0d1e746065959eb   644109                  0   \n",
      "\n",
      "  LocalAuthorityBusinessID               BusinessName  \\\n",
      "0                     4029        The Chase Rest Home   \n",
      "1                1970/FOOD                 Brenalwood   \n",
      "2                1698/FOOD              Melrose Hotel   \n",
      "3             PI/000023858              Seaford Pizza   \n",
      "4             PI/000024532              Golden Palace   \n",
      "5            12/00816/BUTH           Ashby's Butchers   \n",
      "6          22/00224/RESTUN  South Sea Express Cuisine   \n",
      "7              EH/00006058              Golden Palace   \n",
      "8         17/00110/MIXED/S             The Tulip Tree   \n",
      "9                    41811                      F & S   \n",
      "\n",
      "                        BusinessType  BusinessTypeID           AddressLine1  \\\n",
      "0                    Caring Premises               5   5-6 Southfields Road   \n",
      "1                    Caring Premises               5              Hall Lane   \n",
      "2  Hotel/bed & breakfast/guest house            7842  53 Marine Parade East   \n",
      "3             Takeaway/sandwich shop            7844          4 High Street   \n",
      "4            Restaurant/Cafe/Canteen               1         5 South Street   \n",
      "5                  Retailers - other            4613   777 Southchurch Road   \n",
      "6            Restaurant/Cafe/Canteen               1    33 Alexandra Street   \n",
      "7             Takeaway/sandwich shop            7844          7 London Road   \n",
      "8            Restaurant/Cafe/Canteen               1          3 The Village   \n",
      "9                  Retailers - other            4613                          \n",
      "\n",
      "         AddressLine2 AddressLine3  ...  \\\n",
      "0          Eastbourne  East Sussex  ...   \n",
      "1  Walton-on-the-Naze        Essex  ...   \n",
      "2      Clacton On Sea        Essex  ...   \n",
      "3             Seaford  East Sussex  ...   \n",
      "4             Seaford  East Sussex  ...   \n",
      "5     Southend-On-Sea        Essex  ...   \n",
      "6     Southend-on-sea        Essex  ...   \n",
      "7            Rayleigh        Essex  ...   \n",
      "8       Chiddingstone         KENT  ...   \n",
      "9      81 Southernhay     Basildon  ...   \n",
      "\n",
      "                      LocalAuthorityWebSite  \\\n",
      "0  http://www.eastbourne.gov.uk/foodratings   \n",
      "1             http://www.tendringdc.gov.uk/   \n",
      "2             http://www.tendringdc.gov.uk/   \n",
      "3       http://www.lewes-eastbourne.gov.uk/   \n",
      "4       http://www.lewes-eastbourne.gov.uk/   \n",
      "5                http://www.southend.gov.uk   \n",
      "6                http://www.southend.gov.uk   \n",
      "7                http://www.rochford.gov.uk   \n",
      "8              http://www.sevenoaks.gov.uk/   \n",
      "9                http://www.basildon.gov.uk   \n",
      "\n",
      "              LocalAuthorityEmailAddress  \\\n",
      "0        Customerfirst@eastbourne.gov.uk   \n",
      "1             fhsadmin@tendringdc.gov.uk   \n",
      "2             fhsadmin@tendringdc.gov.uk   \n",
      "3    ehealth.ldc@lewes-eastbourne.gov.uk   \n",
      "4    ehealth.ldc@lewes-eastbourne.gov.uk   \n",
      "5    EnvironmentalHealth@southend.gov.uk   \n",
      "6    EnvironmentalHealth@southend.gov.uk   \n",
      "7       customerservices@rochford.gov.uk   \n",
      "8  environmental.health@sevenoaks.gov.uk   \n",
      "9                    ehs@basildon.gov.uk   \n",
      "\n",
      "                                              scores  SchemeType  \\\n",
      "0  {'Hygiene': 20, 'Structural': 20, 'ConfidenceI...        FHRS   \n",
      "1  {'Hygiene': 20, 'Structural': 15, 'ConfidenceI...        FHRS   \n",
      "2  {'Hygiene': 20, 'Structural': 20, 'ConfidenceI...        FHRS   \n",
      "3  {'Hygiene': 20, 'Structural': 10, 'ConfidenceI...        FHRS   \n",
      "4  {'Hygiene': 20, 'Structural': 10, 'ConfidenceI...        FHRS   \n",
      "5  {'Hygiene': 20, 'Structural': 20, 'ConfidenceI...        FHRS   \n",
      "6  {'Hygiene': 20, 'Structural': 20, 'ConfidenceI...        FHRS   \n",
      "7  {'Hygiene': 20, 'Structural': 15, 'ConfidenceI...        FHRS   \n",
      "8  {'Hygiene': 20, 'Structural': 5, 'ConfidenceIn...        FHRS   \n",
      "9  {'Hygiene': 20, 'Structural': 20, 'ConfidenceI...        FHRS   \n",
      "\n",
      "                                             geocode RightToReply  \\\n",
      "0  {'longitude': {'$toDouble': '$geocode.longitud...                \n",
      "1  {'longitude': {'$toDouble': '$geocode.longitud...                \n",
      "2  {'longitude': {'$toDouble': '$geocode.longitud...                \n",
      "3  {'longitude': {'$toDouble': '$geocode.longitud...                \n",
      "4  {'longitude': {'$toDouble': '$geocode.longitud...                \n",
      "5  {'longitude': {'$toDouble': '$geocode.longitud...                \n",
      "6  {'longitude': {'$toDouble': '$geocode.longitud...                \n",
      "7  {'longitude': {'$toDouble': '$geocode.longitud...                \n",
      "8  {'longitude': {'$toDouble': '$geocode.longitud...                \n",
      "9  {'longitude': {'$toDouble': '$geocode.longitud...                \n",
      "\n",
      "      Distance NewRatingPending  \\\n",
      "0  4613.888288            False   \n",
      "1  4617.965824            False   \n",
      "2  4619.656144            False   \n",
      "3  4620.421725            False   \n",
      "4  4620.437179            False   \n",
      "5  4625.565258            False   \n",
      "6  4626.200132            False   \n",
      "7  4632.276890            False   \n",
      "8  4633.934041            False   \n",
      "9  4636.552523            False   \n",
      "\n",
      "                                                meta  \\\n",
      "0  {'dataSource': None, 'extractDate': '0001-01-0...   \n",
      "1  {'dataSource': None, 'extractDate': '0001-01-0...   \n",
      "2  {'dataSource': None, 'extractDate': '0001-01-0...   \n",
      "3  {'dataSource': None, 'extractDate': '0001-01-0...   \n",
      "4  {'dataSource': None, 'extractDate': '0001-01-0...   \n",
      "5  {'dataSource': None, 'extractDate': '0001-01-0...   \n",
      "6  {'dataSource': None, 'extractDate': '0001-01-0...   \n",
      "7  {'dataSource': None, 'extractDate': '0001-01-0...   \n",
      "8  {'dataSource': None, 'extractDate': '0001-01-0...   \n",
      "9  {'dataSource': None, 'extractDate': '0001-01-0...   \n",
      "\n",
      "                                               links  \n",
      "0  [{'rel': 'self', 'href': 'https://api.ratings....  \n",
      "1  [{'rel': 'self', 'href': 'https://api.ratings....  \n",
      "2  [{'rel': 'self', 'href': 'https://api.ratings....  \n",
      "3  [{'rel': 'self', 'href': 'https://api.ratings....  \n",
      "4  [{'rel': 'self', 'href': 'https://api.ratings....  \n",
      "5  [{'rel': 'self', 'href': 'https://api.ratings....  \n",
      "6  [{'rel': 'self', 'href': 'https://api.ratings....  \n",
      "7  [{'rel': 'self', 'href': 'http://api.ratings.f...  \n",
      "8  [{'rel': 'self', 'href': 'http://api.ratings.f...  \n",
      "9  [{'rel': 'self', 'href': 'http://api.ratings.f...  \n",
      "\n",
      "[10 rows x 28 columns]\n"
     ]
    }
   ],
   "source": [
    "# Convert the result to a Pandas DataFrame\n",
    "hygiene_20_df = pd.DataFrame(list(establishments.find(query)))\n",
    "\n",
    "# Display the number of rows in the DataFrame\n",
    "print(\"Number of rows in DataFrame:\", len(hygiene_20_df))\n",
    "\n",
    "# Display the first 10 rows of the DataFrame\n",
    "print(\"First 10 rows of DataFrame:\")\n",
    "print(hygiene_20_df.head(10))"
   ]
  },
  {
   "cell_type": "markdown",
   "id": "0ef4395a",
   "metadata": {},
   "source": [
    "### 2. Which establishments in London have a `RatingValue` greater than or equal to 4?"
   ]
  },
  {
   "cell_type": "code",
   "execution_count": 8,
   "id": "93c63829",
   "metadata": {},
   "outputs": [
    {
     "name": "stdout",
     "output_type": "stream",
     "text": [
      "Number of London establishments with RatingValue >= 4: 33\n",
      "First London establishment with RatingValue >= 4:\n",
      "{'AddressLine1': 'Oak Apple Farm Building 103 Sheernes Docks',\n",
      " 'AddressLine2': 'Sheppy Kent',\n",
      " 'AddressLine3': '',\n",
      " 'AddressLine4': '',\n",
      " 'BusinessName': \"Charlie's\",\n",
      " 'BusinessType': 'Other catering premises',\n",
      " 'BusinessTypeID': 7841,\n",
      " 'ChangesByServerID': 0,\n",
      " 'Distance': 4627.439467780196,\n",
      " 'FHRSID': 621707,\n",
      " 'LocalAuthorityBusinessID': 'PI/000025307',\n",
      " 'LocalAuthorityCode': '508',\n",
      " 'LocalAuthorityEmailAddress': 'publicprotection@cityoflondon.gov.uk',\n",
      " 'LocalAuthorityName': 'City of London Corporation',\n",
      " 'LocalAuthorityWebSite': 'http://www.cityoflondon.gov.uk/Corporation/homepage.htm',\n",
      " 'NewRatingPending': False,\n",
      " 'Phone': '',\n",
      " 'PostCode': 'ME12',\n",
      " 'RatingDate': '2021-10-18T00:00:00',\n",
      " 'RatingKey': 'fhrs_4_en-gb',\n",
      " 'RatingValue': 4,\n",
      " 'RightToReply': '',\n",
      " 'SchemeType': 'FHRS',\n",
      " '_id': ObjectId('656686b6b0d1e74606593e38'),\n",
      " 'geocode': {'latitude': {'$toDouble': '$geocode.latitude'},\n",
      "             'longitude': {'$toDouble': '$geocode.longitude'}},\n",
      " 'links': [{'href': 'https://api.ratings.food.gov.uk/establishments/621707',\n",
      "            'rel': 'self'}],\n",
      " 'meta': {'dataSource': None,\n",
      "          'extractDate': '0001-01-01T00:00:00',\n",
      "          'itemCount': 0,\n",
      "          'pageNumber': 0,\n",
      "          'pageSize': 0,\n",
      "          'returncode': None,\n",
      "          'totalCount': 0,\n",
      "          'totalPages': 0},\n",
      " 'scores': {'ConfidenceInManagement': 5, 'Hygiene': 5, 'Structural': 10}}\n"
     ]
    }
   ],
   "source": [
    "# Find the establishments with London as the Local Authority and has a RatingValue greater than or equal to 4.\n",
    "\n",
    "# Use count_documents to display the number of documents in the result\n",
    "\n",
    "# Display the first document in the results using pprint\n",
    "query = {\"LocalAuthorityName\": {\"$regex\": \"London\", \"$options\": \"i\"}, \"RatingValue\": {\"$gte\": 4}}\n",
    "london_rating_count = establishments.count_documents(query)\n",
    "print(\"Number of London establishments with RatingValue >= 4:\", london_rating_count)\n",
    "\n",
    "first_london_rating = establishments.find_one(query)\n",
    "print(\"First London establishment with RatingValue >= 4:\")\n",
    "pprint(first_london_rating)\n"
   ]
  },
  {
   "cell_type": "code",
   "execution_count": 9,
   "id": "07e24ccb",
   "metadata": {},
   "outputs": [
    {
     "name": "stdout",
     "output_type": "stream",
     "text": [
      "Number of rows in DataFrame: 33\n",
      "First 10 rows of DataFrame:\n",
      "                        _id   FHRSID  ChangesByServerID  \\\n",
      "0  656686b6b0d1e74606593e38   621707                  0   \n",
      "1  656686b6b0d1e7460659415f  1130836                  0   \n",
      "2  656686b6b0d1e74606594cad   293783                  0   \n",
      "3  656686b6b0d1e74606595aac   294474                  0   \n",
      "4  656686b6b0d1e74606595aaf  1315095                  0   \n",
      "5  656686b7b0d1e746065961b6   294900                  0   \n",
      "6  656686b7b0d1e746065982c2   293756                  0   \n",
      "7  656686b7b0d1e74606598686   878523                  0   \n",
      "8  656686b7b0d1e746065986a2   294606                  0   \n",
      "9  656686b7b0d1e746065986a4   293772                  0   \n",
      "\n",
      "  LocalAuthorityBusinessID                          BusinessName  \\\n",
      "0             PI/000025307                             Charlie's   \n",
      "1             PI/000034075               Mv City Cruises Erasmus   \n",
      "2             PI/000002614             Benfleet Motor Yacht Club   \n",
      "3             PI/000014647              Tilbury Seafarers Centre   \n",
      "4             PI/000036464  Coombs Catering t/a The Lock and Key   \n",
      "5             PI/000019066                            Mv Valulla   \n",
      "6             PI/000002538                         Tereza Joanne   \n",
      "7             PI/000029844                      Brick Lane Brews   \n",
      "8             PI/000016185                              WH Smith   \n",
      "9             PI/000002585         The Nuance Group (UK) Limited   \n",
      "\n",
      "              BusinessType  BusinessTypeID  \\\n",
      "0  Other catering premises            7841   \n",
      "1  Other catering premises            7841   \n",
      "2  Other catering premises            7841   \n",
      "3  Restaurant/Cafe/Canteen               1   \n",
      "4  Restaurant/Cafe/Canteen               1   \n",
      "5  Other catering premises            7841   \n",
      "6  Other catering premises            7841   \n",
      "7  Restaurant/Cafe/Canteen               1   \n",
      "8        Retailers - other            4613   \n",
      "9        Retailers - other            4613   \n",
      "\n",
      "                                        AddressLine1  \\\n",
      "0         Oak Apple Farm Building 103 Sheernes Docks   \n",
      "1                                 Cherry Garden Pier   \n",
      "2                                         Ferry Road   \n",
      "3                          Tenants Row Tilbury Docks   \n",
      "4                                  Leslie Ford House   \n",
      "5  Reeds River Cruises LtdKings ReachRiver Thames...   \n",
      "6  Funcraft UK Ltd King George V Dock Woolwich Ma...   \n",
      "7                       Air side London City Airport   \n",
      "8                                London City Airport   \n",
      "9                  Duty Free Shop Passenger Terminal   \n",
      "\n",
      "                           AddressLine2 AddressLine3  ...  \\\n",
      "0                           Sheppy Kent               ...   \n",
      "1      Cherry Garden Street Rotherhithe     Charlton  ...   \n",
      "2                  South Benfleet Essex               ...   \n",
      "3                         Tilbury Essex               ...   \n",
      "4                               Tilbury     Charlton  ...   \n",
      "5                                London               ...   \n",
      "6                                London               ...   \n",
      "7                                London               ...   \n",
      "8                     Silvertown London               ...   \n",
      "9  London City AirportRoyal DocksLondon               ...   \n",
      "\n",
      "                               LocalAuthorityWebSite  \\\n",
      "0  http://www.cityoflondon.gov.uk/Corporation/hom...   \n",
      "1  http://www.cityoflondon.gov.uk/Corporation/hom...   \n",
      "2  http://www.cityoflondon.gov.uk/Corporation/hom...   \n",
      "3  http://www.cityoflondon.gov.uk/Corporation/hom...   \n",
      "4  http://www.cityoflondon.gov.uk/Corporation/hom...   \n",
      "5  http://www.cityoflondon.gov.uk/Corporation/hom...   \n",
      "6  http://www.cityoflondon.gov.uk/Corporation/hom...   \n",
      "7  http://www.cityoflondon.gov.uk/Corporation/hom...   \n",
      "8  http://www.cityoflondon.gov.uk/Corporation/hom...   \n",
      "9  http://www.cityoflondon.gov.uk/Corporation/hom...   \n",
      "\n",
      "             LocalAuthorityEmailAddress  \\\n",
      "0  publicprotection@cityoflondon.gov.uk   \n",
      "1  publicprotection@cityoflondon.gov.uk   \n",
      "2  publicprotection@cityoflondon.gov.uk   \n",
      "3  publicprotection@cityoflondon.gov.uk   \n",
      "4  publicprotection@cityoflondon.gov.uk   \n",
      "5  publicprotection@cityoflondon.gov.uk   \n",
      "6  publicprotection@cityoflondon.gov.uk   \n",
      "7  publicprotection@cityoflondon.gov.uk   \n",
      "8  publicprotection@cityoflondon.gov.uk   \n",
      "9  publicprotection@cityoflondon.gov.uk   \n",
      "\n",
      "                                              scores  SchemeType  \\\n",
      "0  {'Hygiene': 5, 'Structural': 10, 'ConfidenceIn...        FHRS   \n",
      "1  {'Hygiene': 0, 'Structural': 5, 'ConfidenceInM...        FHRS   \n",
      "2  {'Hygiene': 0, 'Structural': 0, 'ConfidenceInM...        FHRS   \n",
      "3  {'Hygiene': 0, 'Structural': 0, 'ConfidenceInM...        FHRS   \n",
      "4  {'Hygiene': 0, 'Structural': 5, 'ConfidenceInM...        FHRS   \n",
      "5  {'Hygiene': 0, 'Structural': 0, 'ConfidenceInM...        FHRS   \n",
      "6  {'Hygiene': 0, 'Structural': 5, 'ConfidenceInM...        FHRS   \n",
      "7  {'Hygiene': 10, 'Structural': 5, 'ConfidenceIn...        FHRS   \n",
      "8  {'Hygiene': 0, 'Structural': 0, 'ConfidenceInM...        FHRS   \n",
      "9  {'Hygiene': 0, 'Structural': 0, 'ConfidenceInM...        FHRS   \n",
      "\n",
      "                                             geocode RightToReply  \\\n",
      "0  {'longitude': {'$toDouble': '$geocode.longitud...                \n",
      "1  {'longitude': {'$toDouble': '$geocode.longitud...                \n",
      "2  {'longitude': {'$toDouble': '$geocode.longitud...                \n",
      "3  {'longitude': {'$toDouble': '$geocode.longitud...                \n",
      "4  {'longitude': {'$toDouble': '$geocode.longitud...                \n",
      "5  {'longitude': {'$toDouble': '$geocode.longitud...                \n",
      "6  {'longitude': {'$toDouble': '$geocode.longitud...                \n",
      "7  {'longitude': {'$toDouble': '$geocode.longitud...                \n",
      "8  {'longitude': {'$toDouble': '$geocode.longitud...                \n",
      "9  {'longitude': {'$toDouble': '$geocode.longitud...                \n",
      "\n",
      "      Distance NewRatingPending  \\\n",
      "0  4627.439468            False   \n",
      "1  4627.873179            False   \n",
      "2  4631.968418            False   \n",
      "3  4636.847650            False   \n",
      "4  4636.846754            False   \n",
      "5  4640.460834            False   \n",
      "6  4648.301822            False   \n",
      "7  4649.173485            False   \n",
      "8  4649.188850            False   \n",
      "9  4649.188826            False   \n",
      "\n",
      "                                                meta  \\\n",
      "0  {'dataSource': None, 'extractDate': '0001-01-0...   \n",
      "1  {'dataSource': None, 'extractDate': '0001-01-0...   \n",
      "2  {'dataSource': None, 'extractDate': '0001-01-0...   \n",
      "3  {'dataSource': None, 'extractDate': '0001-01-0...   \n",
      "4  {'dataSource': None, 'extractDate': '0001-01-0...   \n",
      "5  {'dataSource': None, 'extractDate': '0001-01-0...   \n",
      "6  {'dataSource': None, 'extractDate': '0001-01-0...   \n",
      "7  {'dataSource': None, 'extractDate': '0001-01-0...   \n",
      "8  {'dataSource': None, 'extractDate': '0001-01-0...   \n",
      "9  {'dataSource': None, 'extractDate': '0001-01-0...   \n",
      "\n",
      "                                               links  \n",
      "0  [{'rel': 'self', 'href': 'https://api.ratings....  \n",
      "1  [{'rel': 'self', 'href': 'http://api.ratings.f...  \n",
      "2  [{'rel': 'self', 'href': 'http://api.ratings.f...  \n",
      "3  [{'rel': 'self', 'href': 'http://api.ratings.f...  \n",
      "4  [{'rel': 'self', 'href': 'http://api.ratings.f...  \n",
      "5  [{'rel': 'self', 'href': 'http://api.ratings.f...  \n",
      "6  [{'rel': 'self', 'href': 'http://api.ratings.f...  \n",
      "7  [{'rel': 'self', 'href': 'http://api.ratings.f...  \n",
      "8  [{'rel': 'self', 'href': 'http://api.ratings.f...  \n",
      "9  [{'rel': 'self', 'href': 'http://api.ratings.f...  \n",
      "\n",
      "[10 rows x 28 columns]\n"
     ]
    }
   ],
   "source": [
    "# Convert the result to a Pandas DataFrame\n",
    "london_rating_df = pd.DataFrame(list(establishments.find(query)))\n",
    "\n",
    "# Display the number of rows in the DataFrame\n",
    "print(\"Number of rows in DataFrame:\", len(london_rating_df))\n",
    "\n",
    "# Display the first 10 rows of the DataFrame\n",
    "print(\"First 10 rows of DataFrame:\")\n",
    "print(london_rating_df.head(10))"
   ]
  },
  {
   "cell_type": "markdown",
   "id": "4e570caf",
   "metadata": {},
   "source": [
    "### 3. What are the top 5 establishments with a `RatingValue` rating value of 5, sorted by lowest hygiene score, nearest to the new restaurant added, \"Penang Flavours\"?"
   ]
  },
  {
   "cell_type": "code",
   "execution_count": 10,
   "id": "7f599f3d",
   "metadata": {},
   "outputs": [
    {
     "name": "stdout",
     "output_type": "stream",
     "text": [
      "Top 5 establishments near Penang Flavours with RatingValue of 5:\n"
     ]
    }
   ],
   "source": [
    "# Search within 0.01 degree on either side of the latitude and longitude.\n",
    "# Rating value must equal 5\n",
    "# Sort by hygiene score\n",
    "\n",
    "degree_search = 0.01\n",
    "latitude = 51.49014200\n",
    "longitude = 0.08384000\n",
    "\n",
    "query = {\n",
    "    \"RatingValue\": 5,\n",
    "    \"geocode.latitude\": {\"$gte\": latitude - degree_search, \"$lte\": latitude + degree_search},\n",
    "    \"geocode.longitude\": {\"$gte\": longitude - degree_search, \"$lte\": longitude + degree_search}\n",
    "}\n",
    "sort = [(\"scores.Hygiene\", 1)]\n",
    "\n",
    "# Print the results\n",
    "top_5_near_penang = list(establishments.find(query).sort(sort).limit(5))\n",
    "print(\"Top 5 establishments near Penang Flavours with RatingValue of 5:\")\n",
    "for est in top_5_near_penang:\n",
    "    pprint(est)"
   ]
  },
  {
   "cell_type": "code",
   "execution_count": 11,
   "id": "9d97a4a5",
   "metadata": {},
   "outputs": [
    {
     "name": "stdout",
     "output_type": "stream",
     "text": [
      "Total establishments with RatingValue of 5: 25816\n",
      "Top 5 establishments in broader area with RatingValue of 5:\n"
     ]
    }
   ],
   "source": [
    "# Check if there are any establishments with a RatingValue of 5\n",
    "rating_query = {\"RatingValue\": 5}\n",
    "rating_count = establishments.count_documents(rating_query)\n",
    "print(\"Total establishments with RatingValue of 5:\", rating_count)\n",
    "\n",
    "# Broaden the geographic search\n",
    "broader_search = 0.1  # 0.1 degrees for broader area\n",
    "broader_query = {\n",
    "    \"RatingValue\": 5,\n",
    "    \"geocode.latitude\": {\"$gte\": latitude - broader_search, \"$lte\": latitude + broader_search},\n",
    "    \"geocode.longitude\": {\"$gte\": longitude - broader_search, \"$lte\": longitude + broader_search}\n",
    "}\n",
    "broader_top_5 = list(establishments.find(broader_query).sort(sort).limit(5))\n",
    "print(\"Top 5 establishments in broader area with RatingValue of 5:\")\n",
    "for est in broader_top_5:\n",
    "    pprint(est)"
   ]
  },
  {
   "cell_type": "code",
   "execution_count": 15,
   "id": "83cf4921",
   "metadata": {},
   "outputs": [
    {
     "name": "stdout",
     "output_type": "stream",
     "text": [
      "Top 5 establishments near Penang Flavours with RatingValue of 5:\n"
     ]
    }
   ],
   "source": [
    "# Assuming you have the exact coordinates for \"Penang Flavours\"\n",
    "penang_flavours_coords = {\"latitude\": 51.49014200, \"longitude\": 0.08384000}\n",
    "degree_search = 0.01\n",
    "\n",
    "# Query to find the top 5 establishments near \"Penang Flavours\"\n",
    "query = {\n",
    "    \"RatingValue\": 5,\n",
    "    \"geocode.latitude\": {\"$gte\": penang_flavours_coords[\"latitude\"] - degree_search, \"$lte\": penang_flavours_coords[\"latitude\"] + degree_search},\n",
    "    \"geocode.longitude\": {\"$gte\": penang_flavours_coords[\"longitude\"] - degree_search, \"$lte\": penang_flavours_coords[\"longitude\"] + degree_search}\n",
    "}\n",
    "sort_criteria = [(\"scores.Hygiene\", 1)]\n",
    "\n",
    "top_5_near_penang = list(establishments.find(query).sort(sort_criteria).limit(5))\n",
    "print(\"Top 5 establishments near Penang Flavours with RatingValue of 5:\")\n",
    "for est in top_5_near_penang:\n",
    "    pprint(est)\n"
   ]
  },
  {
   "cell_type": "code",
   "execution_count": null,
   "id": "8e2fcec6",
   "metadata": {},
   "outputs": [],
   "source": [
    "#This is a note to say that the query was created with the specific assignment instructions followed, but\n",
    "# there are no restaurants within the search criteria that also fit the 5 star rating. \n",
    "# This last piece of code was written to check that the general search was otherwise correct.\n",
    "# so I can only guess the 0 output query was created with the goal of stumping us?"
   ]
  },
  {
   "cell_type": "code",
   "execution_count": 12,
   "id": "a6ad16f7",
   "metadata": {},
   "outputs": [
    {
     "name": "stdout",
     "output_type": "stream",
     "text": [
      "Top 5 DataFrame:\n",
      "Empty DataFrame\n",
      "Columns: []\n",
      "Index: []\n"
     ]
    }
   ],
   "source": [
    "# Convert result to Pandas DataFrame\n",
    "top_5_near_penang_df = pd.DataFrame(top_5_near_penang)\n",
    "print(\"Top 5 DataFrame:\")\n",
    "print(top_5_near_penang_df)\n"
   ]
  },
  {
   "cell_type": "markdown",
   "id": "67281254",
   "metadata": {},
   "source": [
    "### 4. How many establishments in each Local Authority area have a hygiene score of 0?"
   ]
  },
  {
   "cell_type": "code",
   "execution_count": 13,
   "id": "4eeb227e",
   "metadata": {},
   "outputs": [
    {
     "name": "stdout",
     "output_type": "stream",
     "text": [
      "Number of establishments with hygiene score 0 in each Local Authority:\n",
      "{'_id': 'Thanet', 'count': 1130}\n",
      "{'_id': 'Greenwich', 'count': 882}\n",
      "{'_id': 'Maidstone', 'count': 713}\n",
      "{'_id': 'Newham', 'count': 711}\n",
      "{'_id': 'Swale', 'count': 686}\n",
      "{'_id': 'Chelmsford', 'count': 680}\n",
      "{'_id': 'Medway', 'count': 672}\n",
      "{'_id': 'Bexley', 'count': 607}\n",
      "{'_id': 'Southend-On-Sea', 'count': 586}\n",
      "{'_id': 'Tendring', 'count': 542}\n"
     ]
    }
   ],
   "source": [
    "# Create a pipeline that: \n",
    "# 1. Matches establishments with a hygiene score of 0\n",
    "# 2. Groups the matches by Local Authority\n",
    "# 3. Sorts the matches from highest to lowest\n",
    "pipeline = [\n",
    "    {\"$match\": {\"scores.Hygiene\": 0}},\n",
    "    {\"$group\": {\"_id\": \"$LocalAuthorityName\", \"count\": {\"$sum\": 1}}},\n",
    "    {\"$sort\": {\"count\": -1}}\n",
    "]\n",
    "\n",
    "# Print the number of documents in the result\n",
    "hygiene_zero = list(establishments.aggregate(pipeline))\n",
    "\n",
    "# Print the first 10 results\n",
    "print(\"Number of establishments with hygiene score 0 in each Local Authority:\")\n",
    "for la in hygiene_zero[:10]:\n",
    "    pprint(la)\n",
    "    "
   ]
  },
  {
   "cell_type": "code",
   "execution_count": 14,
   "id": "d8aab364",
   "metadata": {},
   "outputs": [
    {
     "name": "stdout",
     "output_type": "stream",
     "text": [
      "Number of rows in DataFrame: 55\n",
      "First 10 rows of DataFrame:\n",
      "               _id  count\n",
      "0           Thanet   1130\n",
      "1        Greenwich    882\n",
      "2        Maidstone    713\n",
      "3           Newham    711\n",
      "4            Swale    686\n",
      "5       Chelmsford    680\n",
      "6           Medway    672\n",
      "7           Bexley    607\n",
      "8  Southend-On-Sea    586\n",
      "9         Tendring    542\n"
     ]
    }
   ],
   "source": [
    "# Convert the result to a Pandas DataFrame\n",
    "hygiene_zero_df = pd.DataFrame(hygiene_zero)\n",
    "\n",
    "# Display the number of rows in the DataFrame\n",
    "print(\"Number of rows in DataFrame:\", len(hygiene_zero_df))\n",
    "\n",
    "# Display the first 10 rows of the DataFrame\n",
    "print(\"First 10 rows of DataFrame:\")\n",
    "print(hygiene_zero_df.head(10))"
   ]
  },
  {
   "cell_type": "code",
   "execution_count": null,
   "id": "dcdd9c72",
   "metadata": {},
   "outputs": [],
   "source": []
  }
 ],
 "metadata": {
  "kernelspec": {
   "display_name": "Python 3 (ipykernel)",
   "language": "python",
   "name": "python3"
  },
  "language_info": {
   "codemirror_mode": {
    "name": "ipython",
    "version": 3
   },
   "file_extension": ".py",
   "mimetype": "text/x-python",
   "name": "python",
   "nbconvert_exporter": "python",
   "pygments_lexer": "ipython3",
   "version": "3.11.5"
  }
 },
 "nbformat": 4,
 "nbformat_minor": 5
}
